{
  "nbformat": 4,
  "nbformat_minor": 0,
  "metadata": {
    "colab": {
      "provenance": [],
      "gpuType": "T4",
      "mount_file_id": "1FSG3uExgG88yk2PYKgycPfjBE9bEU7hn",
      "authorship_tag": "ABX9TyMd88tkzCCzNrjD4c6phfVi",
      "include_colab_link": true
    },
    "kernelspec": {
      "name": "python3",
      "display_name": "Python 3"
    },
    "language_info": {
      "name": "python"
    },
    "accelerator": "GPU"
  },
  "cells": [
    {
      "cell_type": "markdown",
      "metadata": {
        "id": "view-in-github",
        "colab_type": "text"
      },
      "source": [
        "<a href=\"https://colab.research.google.com/github/xizhedong/xizhedong/blob/main/diff-std.ipynb\" target=\"_parent\"><img src=\"https://colab.research.google.com/assets/colab-badge.svg\" alt=\"Open In Colab\"/></a>"
      ]
    },
    {
      "cell_type": "code",
      "execution_count": 3,
      "metadata": {
        "colab": {
          "base_uri": "https://localhost:8080/"
        },
        "id": "vNoXwCVDjJSs",
        "outputId": "47dc37b3-0562-4585-a8e2-05f62f30ea23"
      },
      "outputs": [
        {
          "output_type": "stream",
          "name": "stdout",
          "text": [
            "Cloning into 'diff-sampler'...\n",
            "remote: Enumerating objects: 197, done.\u001b[K\n",
            "remote: Counting objects: 100% (104/104), done.\u001b[K\n",
            "remote: Compressing objects: 100% (83/83), done.\u001b[K\n",
            "remote: Total 197 (delta 47), reused 53 (delta 21), pack-reused 93\u001b[K\n",
            "Receiving objects: 100% (197/197), 1.93 MiB | 11.50 MiB/s, done.\n",
            "Resolving deltas: 100% (72/72), done.\n"
          ]
        }
      ],
      "source": [
        "!git config --global user.name \"name\"\n",
        "!git config --global user.email \"name@email.com\"\n",
        "!git clone https://github.com/zju-pi/diff-sampler\n",
        "\n"
      ]
    },
    {
      "cell_type": "code",
      "source": [
        "!cd /content/diff-sampler/diff-solvers-main\n",
        "import os\n",
        "os.chdir(\"/content/diff-sampler/diff-solvers-main\")\n",
        "!ls"
      ],
      "metadata": {
        "colab": {
          "base_uri": "https://localhost:8080/"
        },
        "id": "zHP0i4zalwEs",
        "outputId": "6c1d218f-f724-47e5-c6c0-01c02ddc10a6"
      },
      "execution_count": 4,
      "outputs": [
        {
          "output_type": "stream",
          "name": "stdout",
          "text": [
            "clip_score.py  dnnlib  launch.sh  README.md  solvers.py       torch_utils\n",
            "dataset.py     fid.py  models\t  sample.py  solver_utils.py\n"
          ]
        }
      ]
    },
    {
      "cell_type": "code",
      "source": [
        "!SOLVER_FLAGS=\"--solver=euler --num_steps=7 --afs=False\"\n",
        "!SCHEDULE_FLAGS=\"--schedule_type=polynomial --schedule_rho=7\"\n",
        "!python sample.py --dataset_name=\"cifar10\" --batch=64 --seeds=\"0-63\" --grid=True --solver=euler --num_steps=7 --afs=False --schedule_type=polynomial --schedule_rho=7"
      ],
      "metadata": {
        "colab": {
          "base_uri": "https://localhost:8080/"
        },
        "id": "qRRLc7KAlyjl",
        "outputId": "916165ec-7d41-41ea-b16b-7ff86e323338"
      },
      "execution_count": 7,
      "outputs": [
        {
          "output_type": "stream",
          "name": "stdout",
          "text": [
            "Model already exists: ../diff-solvers-main/src/cifar10/edm-cifar10-32x32-uncond-vp.pkl\n",
            "Loading the pre-trained diffusion model from \"../diff-solvers-main/src/cifar10/edm-cifar10-32x32-uncond-vp.pkl\"...\n",
            "Solver settings:\n",
            "\tsolver: euler\n",
            "\tnum_steps: 7\n",
            "\tafs: False\n",
            "\tschedule_type: polynomial\n",
            "\tschedule_rho: 7.0\n",
            "\tdenoise_to_zero: False\n",
            "\treturn_inters: False\n",
            "\tuse_fp16: False\n",
            "\tsigma_min: 0.002\n",
            "\tsigma_max: 80.0\n",
            "\tmodel_source: edm\n",
            "\tnfe: 6\n",
            "Generating 64 images to \"./samples/grids/cifar10/euler_nfe6\"...\n",
            "  0% 0/1 [00:00<?, ?batch/s]<string>:83: UserWarning: Plan failed with a cudnnException: CUDNN_BACKEND_EXECUTION_PLAN_DESCRIPTOR: cudnnFinalize Descriptor Failed cudnn_status: CUDNN_STATUS_NOT_SUPPORTED (Triggered internally at ../aten/src/ATen/native/cudnn/Conv_v8.cpp:919.)\n",
            "100% 1/1 [00:03<00:00,  3.47s/batch]\n",
            "Done.\n"
          ]
        }
      ]
    },
    {
      "cell_type": "code",
      "source": [
        "!ls\n"
      ],
      "metadata": {
        "colab": {
          "base_uri": "https://localhost:8080/"
        },
        "id": "jDo3kupLm2Jq",
        "outputId": "73c4fe5b-7af5-4631-9e91-88cbb8ba9e3f"
      },
      "execution_count": 9,
      "outputs": [
        {
          "output_type": "stream",
          "name": "stdout",
          "text": [
            "diff-sampler  drive  sample_data\n"
          ]
        }
      ]
    },
    {
      "cell_type": "code",
      "source": [],
      "metadata": {
        "id": "BTvr0xRNnFQY"
      },
      "execution_count": null,
      "outputs": []
    }
  ]
}